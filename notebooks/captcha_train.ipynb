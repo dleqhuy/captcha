{
 "cells": [
  {
   "cell_type": "code",
   "execution_count": 8,
   "metadata": {
    "colab": {
     "base_uri": "https://localhost:8080/"
    },
    "id": "XGHpSG768RQj",
    "outputId": "6408f946-1b4d-4751-f967-4b4cb7d29d02"
   },
   "outputs": [
    {
     "name": "stdout",
     "output_type": "stream",
     "text": [
      "Overwriting /home/studio-lab-user/ocr_crnn/configs/captcha.yml\n"
     ]
    }
   ],
   "source": [
    "%%writefile /home/studio-lab-user/ocr_crnn/configs/captcha.yml\n",
    "dataset_builder: &ds_builder\n",
    "    table_path: '/home/studio-lab-user/ocr_crnn/configs/captcha_table.txt'\n",
    "    img_width: 200\n",
    "    img_height: 50\n",
    "    channel: 1\n",
    "    is_handwriting: False\n",
    "\n",
    "train:\n",
    "    dataset_builder:\n",
    "        <<: *ds_builder\n",
    "    train_csv_path:\n",
    "        '/home/studio-lab-user/captcha_images_v2/captcha.csv'\n",
    "\n",
    "    batch_size_per_replica: 16\n",
    "    num_kfold: 5\n",
    "    # Number of epochs to train.\n",
    "    epochs: 100\n",
    "    # TensorBoard Arguments\n",
    "    # https://www.tensorflow.org/api_docs/python/tf/keras/callbacks/TensorBoard#arguments_1\n",
    "    tensorboard:\n",
    "        histogram_freq: 1\n",
    "        profile_batch: 0\n",
    "    earlystopping:\n",
    "        patience: 10\n",
    "    fit_verbose: 0"
   ]
  },
  {
   "cell_type": "code",
   "execution_count": 9,
   "metadata": {
    "colab": {
     "base_uri": "https://localhost:8080/"
    },
    "id": "kNPHt58tR5_5",
    "outputId": "7006b4da-288a-4b08-d233-9dcdbe452ac4"
   },
   "outputs": [
    {
     "name": "stdout",
     "output_type": "stream",
     "text": [
      "{'batch_size_per_replica': 16,\n",
      " 'dataset_builder': {'channel': 1,\n",
      "                     'img_height': 50,\n",
      "                     'img_width': 200,\n",
      "                     'is_handwriting': False,\n",
      "                     'table_path': '/home/studio-lab-user/ocr_crnn/configs/captcha_table.txt'},\n",
      " 'earlystopping': {'patience': 10, 'restore_best_weights': True},\n",
      " 'epochs': 100,\n",
      " 'fit_verbose': 0,\n",
      " 'num_kfold': 5,\n",
      " 'tensorboard': {'histogram_freq': 1, 'profile_batch': 0},\n",
      " 'train_csv_path': '/home/studio-lab-user/captcha_images_v2/captcha.csv'}\n",
      "Model: \"crnn\"\n",
      "_________________________________________________________________\n",
      " Layer (type)                Output Shape              Param #   \n",
      "=================================================================\n",
      " input_1 (InputLayer)        [(None, 200, 50, 1)]      0         \n",
      "                                                                 \n",
      " Conv1 (Conv2D)              (None, 200, 50, 32)       320       \n",
      "                                                                 \n",
      " pool1 (MaxPooling2D)        (None, 100, 25, 32)       0         \n",
      "                                                                 \n",
      " Conv2 (Conv2D)              (None, 100, 25, 64)       18496     \n",
      "                                                                 \n",
      " pool2 (MaxPooling2D)        (None, 50, 12, 64)        0         \n",
      "                                                                 \n",
      " reshape (Reshape)           (None, 50, 768)           0         \n",
      "                                                                 \n",
      " dense1 (Dense)              (None, 50, 64)            49216     \n",
      "                                                                 \n",
      " dropout (Dropout)           (None, 50, 64)            0         \n",
      "                                                                 \n",
      " bidirectional (Bidirectiona  (None, 50, 256)          197632    \n",
      " l)                                                              \n",
      "                                                                 \n",
      " bidirectional_1 (Bidirectio  (None, 50, 128)          164352    \n",
      " nal)                                                            \n",
      "                                                                 \n",
      " logits (Dense)              (None, 50, 21)            2709      \n",
      "                                                                 \n",
      "=================================================================\n",
      "Total params: 432,725\n",
      "Trainable params: 432,725\n",
      "Non-trainable params: 0\n",
      "_________________________________________________________________\n",
      "          loss sequence_accuracy  val_loss val_sequence_accuracy      epoch\n",
      "Fold                                                                       \n",
      "0     0.071067          0.987981  0.102022              0.985577         68\n",
      "1     0.053663          0.987981   0.00495                   1.0         71\n",
      "2     0.062095          0.987981  0.111134              0.985577        100\n",
      "3      0.05934          0.986779   0.08256              0.985577        100\n",
      "4     0.042059          0.991587   0.15524              0.985577         78\n",
      "Mean  0.057645          0.988462  0.091181              0.988462       83.4\n",
      "Std   0.009608           0.00163  0.049253              0.005769  13.937001\n"
     ]
    }
   ],
   "source": [
    "!python /home/studio-lab-user/ocr_crnn/crnn/train.py \\\n",
    "--config /home/studio-lab-user/ocr_crnn/configs/captcha.yml \\\n",
    "--save_dir /home/studio-lab-user/captcha_exp1"
   ]
  },
  {
   "cell_type": "code",
   "execution_count": 10,
   "metadata": {
    "colab": {
     "base_uri": "https://localhost:8080/"
    },
    "id": "5Lne-gZMUucV",
    "outputId": "c2d0bf0c-027e-4711-877b-49b2a8e38c10"
   },
   "outputs": [
    {
     "name": "stdout",
     "output_type": "stream",
     "text": [
      "Path: /home/studio-lab-user/ocr_crnn/captcha_test/f22bn.png, y_pred: ['f22bn'], probability: [0.9865803]\n",
      "Path: /home/studio-lab-user/ocr_crnn/captcha_test/ngn26.png, y_pred: ['ngn26'], probability: [0.98432094]\n",
      "Path: /home/studio-lab-user/ocr_crnn/captcha_test/mmfm6.png, y_pred: ['mmfm6'], probability: [0.9516241]\n",
      "Path: /home/studio-lab-user/ocr_crnn/captcha_test/xmcym.png, y_pred: ['xmcym'], probability: [0.8763152]\n",
      "Path: /home/studio-lab-user/ocr_crnn/captcha_test/yf424.png, y_pred: ['yf424'], probability: [0.9841293]\n",
      "Path: /home/studio-lab-user/ocr_crnn/captcha_test/8d4wm.png, y_pred: ['8d4wm'], probability: [0.98342705]\n",
      "Path: /home/studio-lab-user/ocr_crnn/captcha_test/3wnd3.png, y_pred: ['3wnd3'], probability: [0.9893092]\n"
     ]
    }
   ],
   "source": [
    "!python /home/studio-lab-user/ocr_crnn/crnn/predict.py  \\\n",
    "--config /home/studio-lab-user/ocr_crnn/configs/captcha.yml  \\\n",
    "--weight /home/studio-lab-user/captcha_exp1/0_best_model.h5 \\\n",
    "--images /home/studio-lab-user/ocr_crnn/captcha_test  \\\n",
    "--post greedy"
   ]
  },
  {
   "cell_type": "code",
   "execution_count": null,
   "metadata": {},
   "outputs": [],
   "source": []
  }
 ],
 "metadata": {
  "accelerator": "GPU",
  "colab": {
   "provenance": []
  },
  "gpuClass": "standard",
  "kernelspec": {
   "display_name": "captcha:Python",
   "language": "python",
   "name": "conda-env-captcha-py"
  },
  "language_info": {
   "codemirror_mode": {
    "name": "ipython",
    "version": 3
   },
   "file_extension": ".py",
   "mimetype": "text/x-python",
   "name": "python",
   "nbconvert_exporter": "python",
   "pygments_lexer": "ipython3",
   "version": "3.9.15"
  }
 },
 "nbformat": 4,
 "nbformat_minor": 4
}
