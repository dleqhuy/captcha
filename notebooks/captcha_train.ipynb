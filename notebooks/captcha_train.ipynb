{
 "cells": [
  {
   "cell_type": "code",
   "execution_count": 3,
   "metadata": {
    "colab": {
     "base_uri": "https://localhost:8080/"
    },
    "id": "XGHpSG768RQj",
    "outputId": "6408f946-1b4d-4751-f967-4b4cb7d29d02"
   },
   "outputs": [
    {
     "name": "stdout",
     "output_type": "stream",
     "text": [
      "Overwriting /home/studio-lab-user/ocr_crnn/configs/captcha.yml\n"
     ]
    }
   ],
   "source": [
    "%%writefile /home/studio-lab-user/ocr_crnn/configs/captcha.yml\n",
    "dataset_builder: &ds_builder\n",
    "    table_path: '/home/studio-lab-user/ocr_crnn/configs/captcha_table.txt'\n",
    "    img_width: 200\n",
    "    img_height: 50\n",
    "    channel: 1\n",
    "\n",
    "train:\n",
    "    dataset_builder:\n",
    "        <<: *ds_builder\n",
    "    train_csv_path:\n",
    "        '/home/studio-lab-user/captcha_images_v2/captcha.csv'\n",
    "\n",
    "    batch_size_per_replica: 16\n",
    "    num_kfold: 10\n",
    "    # Number of epochs to train.\n",
    "    epochs: 100\n",
    "    # TensorBoard Arguments\n",
    "    # https://www.tensorflow.org/api_docs/python/tf/keras/callbacks/TensorBoard#arguments_1\n",
    "    tensorboard:\n",
    "        histogram_freq: 1\n",
    "        profile_batch: 0\n",
    "    earlystopping:\n",
    "        patience: 10\n",
    "        restore_best_weights: True"
   ]
  },
  {
   "cell_type": "code",
   "execution_count": null,
   "metadata": {
    "colab": {
     "base_uri": "https://localhost:8080/"
    },
    "id": "kNPHt58tR5_5",
    "outputId": "7006b4da-288a-4b08-d233-9dcdbe452ac4"
   },
   "outputs": [
    {
     "name": "stdout",
     "output_type": "stream",
     "text": [
      "2023-01-07 22:05:07.305403: W tensorflow/stream_executor/platform/default/dso_loader.cc:64] Could not load dynamic library 'libcudart.so.11.0'; dlerror: libcudart.so.11.0: cannot open shared object file: No such file or directory\n",
      "2023-01-07 22:05:07.305440: I tensorflow/stream_executor/cuda/cudart_stub.cc:29] Ignore above cudart dlerror if you do not have a GPU set up on your machine.\n",
      "{'batch_size_per_replica': 16,\n",
      " 'dataset_builder': {'channel': 1,\n",
      "                     'img_height': 50,\n",
      "                     'img_width': 200,\n",
      "                     'table_path': '/home/studio-lab-user/ocr_crnn/configs/captcha_table.txt'},\n",
      " 'earlystopping': {'patience': 10, 'restore_best_weights': True},\n",
      " 'epochs': 100,\n",
      " 'num_kfold': 10,\n",
      " 'tensorboard': {'histogram_freq': 1, 'profile_batch': 0},\n",
      " 'train_csv_path': '/home/studio-lab-user/captcha_images_v2/captcha.csv'}\n",
      "2023-01-07 22:05:09.898623: W tensorflow/stream_executor/platform/default/dso_loader.cc:64] Could not load dynamic library 'libcuda.so.1'; dlerror: libcuda.so.1: cannot open shared object file: No such file or directory\n",
      "2023-01-07 22:05:09.898659: W tensorflow/stream_executor/cuda/cuda_driver.cc:269] failed call to cuInit: UNKNOWN ERROR (303)\n",
      "2023-01-07 22:05:09.898693: I tensorflow/stream_executor/cuda/cuda_diagnostics.cc:156] kernel driver does not appear to be running on this host (default): /proc/driver/nvidia/version does not exist\n",
      "2023-01-07 22:05:09.899012: I tensorflow/core/platform/cpu_feature_guard.cc:193] This TensorFlow binary is optimized with oneAPI Deep Neural Network Library (oneDNN) to use the following CPU instructions in performance-critical operations:  AVX2 AVX512F FMA\n",
      "To enable them in other operations, rebuild TensorFlow with the appropriate compiler flags.\n",
      "Model: \"crnn\"\n",
      "_________________________________________________________________\n",
      " Layer (type)                Output Shape              Param #   \n",
      "=================================================================\n",
      " input_1 (InputLayer)        [(None, 200, 50, 1)]      0         \n",
      "                                                                 \n",
      " Conv1 (Conv2D)              (None, 200, 50, 32)       320       \n",
      "                                                                 \n",
      " pool1 (MaxPooling2D)        (None, 100, 25, 32)       0         \n",
      "                                                                 \n",
      " Conv2 (Conv2D)              (None, 100, 25, 64)       18496     \n",
      "                                                                 \n",
      " pool2 (MaxPooling2D)        (None, 50, 12, 64)        0         \n",
      "                                                                 \n",
      " reshape (Reshape)           (None, 50, 768)           0         \n",
      "                                                                 \n",
      " dense1 (Dense)              (None, 50, 64)            49216     \n",
      "                                                                 \n",
      " dropout (Dropout)           (None, 50, 64)            0         \n",
      "                                                                 \n",
      " bidirectional (Bidirectiona  (None, 50, 256)          197632    \n",
      " l)                                                              \n",
      "                                                                 \n",
      " bidirectional_1 (Bidirectio  (None, 50, 128)          164352    \n",
      " nal)                                                            \n",
      "                                                                 \n",
      " logits (Dense)              (None, 50, 21)            2709      \n",
      "                                                                 \n",
      "=================================================================\n",
      "Total params: 432,725\n",
      "Trainable params: 432,725\n",
      "Non-trainable params: 0\n",
      "_________________________________________________________________\n"
     ]
    }
   ],
   "source": [
    "!python /home/studio-lab-user/ocr_crnn/crnn/train.py \\\n",
    "--config /home/studio-lab-user/ocr_crnn/configs/captcha.yml \\\n",
    "--save_dir /home/studio-lab-user/captcha_exp1"
   ]
  },
  {
   "cell_type": "code",
   "execution_count": null,
   "metadata": {
    "colab": {
     "base_uri": "https://localhost:8080/"
    },
    "id": "5Lne-gZMUucV",
    "outputId": "c2d0bf0c-027e-4711-877b-49b2a8e38c10"
   },
   "outputs": [],
   "source": [
    "!python /home/studio-lab-user/ocr_crnn/crnn/predict.py  \\\n",
    "--config /home/studio-lab-user/ocr_crnn/configs/captcha.yml  \\\n",
    "--weight /home/studio-lab-user/captcha_exp1/1_best_model.h5 \\\n",
    "--images /home/studio-lab-user/ocr_crnn/captcha_test  \\\n",
    "--post greedy"
   ]
  },
  {
   "cell_type": "code",
   "execution_count": null,
   "metadata": {},
   "outputs": [],
   "source": []
  }
 ],
 "metadata": {
  "accelerator": "GPU",
  "colab": {
   "provenance": []
  },
  "gpuClass": "standard",
  "kernelspec": {
   "display_name": "captcha:Python",
   "language": "python",
   "name": "conda-env-captcha-py"
  },
  "language_info": {
   "codemirror_mode": {
    "name": "ipython",
    "version": 3
   },
   "file_extension": ".py",
   "mimetype": "text/x-python",
   "name": "python",
   "nbconvert_exporter": "python",
   "pygments_lexer": "ipython3",
   "version": "3.9.15"
  }
 },
 "nbformat": 4,
 "nbformat_minor": 4
}
