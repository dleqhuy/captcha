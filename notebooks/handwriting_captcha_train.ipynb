{
 "cells": [
  {
   "cell_type": "code",
   "execution_count": 6,
   "metadata": {
    "colab": {
     "base_uri": "https://localhost:8080/"
    },
    "id": "XGHpSG768RQj",
    "outputId": "6408f946-1b4d-4751-f967-4b4cb7d29d02"
   },
   "outputs": [
    {
     "name": "stdout",
     "output_type": "stream",
     "text": [
      "Overwriting /home/studio-lab-user/ocr_crnn/configs/handwriting.yml\n"
     ]
    }
   ],
   "source": [
    "%%writefile /home/studio-lab-user/ocr_crnn/configs/handwriting.yml\n",
    "dataset_builder: &ds_builder\n",
    "    table_path: '/home/studio-lab-user/ocr_crnn/configs/handwriting_table.txt'\n",
    "    img_width: 128\n",
    "    img_height: 32\n",
    "    channel: 1\n",
    "    is_handwriting: True\n",
    "train:\n",
    "    dataset_builder:\n",
    "        <<: *ds_builder\n",
    "    train_csv_path:\n",
    "        '/home/studio-lab-user/handwriting/handwriting.csv'\n",
    "\n",
    "    batch_size_per_replica: 64\n",
    "    num_kfold: 5\n",
    "    # Number of epochs to train.\n",
    "    epochs: 50\n",
    "    # TensorBoard Arguments\n",
    "    # https://www.tensorflow.org/api_docs/python/tf/keras/callbacks/TensorBoard#arguments_1\n",
    "    tensorboard:\n",
    "        histogram_freq: 1\n",
    "        profile_batch: 0\n",
    "    earlystopping:\n",
    "        patience: 10\n",
    "    fit_verbose: 0"
   ]
  },
  {
   "cell_type": "code",
   "execution_count": 8,
   "metadata": {
    "colab": {
     "base_uri": "https://localhost:8080/"
    },
    "id": "kNPHt58tR5_5",
    "outputId": "7006b4da-288a-4b08-d233-9dcdbe452ac4"
   },
   "outputs": [
    {
     "name": "stdout",
     "output_type": "stream",
     "text": [
      "{'batch_size_per_replica': 64,\n",
      " 'dataset_builder': {'channel': 1,\n",
      "                     'img_height': 32,\n",
      "                     'img_width': 128,\n",
      "                     'is_handwriting': True,\n",
      "                     'table_path': '/home/studio-lab-user/ocr_crnn/configs/handwriting_table.txt'},\n",
      " 'earlystopping': {'patience': 10},\n",
      " 'epochs': 50,\n",
      " 'fit_verbose': 0,\n",
      " 'num_kfold': 5,\n",
      " 'tensorboard': {'histogram_freq': 1, 'profile_batch': 0},\n",
      " 'train_csv_path': '/home/studio-lab-user/handwriting/handwriting.csv'}\n",
      "Model: \"crnn\"\n",
      "_________________________________________________________________\n",
      " Layer (type)                Output Shape              Param #   \n",
      "=================================================================\n",
      " input_1 (InputLayer)        [(None, 128, 32, 1)]      0         \n",
      "                                                                 \n",
      " Conv1 (Conv2D)              (None, 128, 32, 32)       320       \n",
      "                                                                 \n",
      " pool1 (MaxPooling2D)        (None, 64, 16, 32)        0         \n",
      "                                                                 \n",
      " Conv2 (Conv2D)              (None, 64, 16, 64)        18496     \n",
      "                                                                 \n",
      " pool2 (MaxPooling2D)        (None, 32, 8, 64)         0         \n",
      "                                                                 \n",
      " reshape (Reshape)           (None, 32, 512)           0         \n",
      "                                                                 \n",
      " dense1 (Dense)              (None, 32, 64)            32832     \n",
      "                                                                 \n",
      " dropout (Dropout)           (None, 32, 64)            0         \n",
      "                                                                 \n",
      " bidirectional (Bidirectiona  (None, 32, 256)          197632    \n",
      " l)                                                              \n",
      "                                                                 \n",
      " bidirectional_1 (Bidirectio  (None, 32, 128)          164352    \n",
      " nal)                                                            \n",
      "                                                                 \n",
      " logits (Dense)              (None, 32, 80)            10320     \n",
      "                                                                 \n",
      "=================================================================\n",
      "Total params: 423,952\n",
      "Trainable params: 423,952\n",
      "Non-trainable params: 0\n",
      "_________________________________________________________________\n",
      "^C\n",
      "Traceback (most recent call last):\n",
      "  File \"/home/studio-lab-user/ocr_crnn/crnn/train.py\", line 80, in <module>\n",
      "    history = model.fit(train_ds, epochs=config['epochs'],\n",
      "  File \"/home/studio-lab-user/.conda/envs/captcha/lib/python3.9/site-packages/keras/utils/traceback_utils.py\", line 64, in error_handler\n",
      "    return fn(*args, **kwargs)\n",
      "  File \"/home/studio-lab-user/.conda/envs/captcha/lib/python3.9/site-packages/keras/engine/training.py\", line 1409, in fit\n",
      "    tmp_logs = self.train_function(iterator)\n",
      "  File \"/home/studio-lab-user/.conda/envs/captcha/lib/python3.9/site-packages/tensorflow/python/util/traceback_utils.py\", line 150, in error_handler\n",
      "    return fn(*args, **kwargs)\n",
      "  File \"/home/studio-lab-user/.conda/envs/captcha/lib/python3.9/site-packages/tensorflow/python/eager/def_function.py\", line 915, in __call__\n",
      "    result = self._call(*args, **kwds)\n",
      "  File \"/home/studio-lab-user/.conda/envs/captcha/lib/python3.9/site-packages/tensorflow/python/eager/def_function.py\", line 947, in _call\n",
      "    return self._stateless_fn(*args, **kwds)  # pylint: disable=not-callable\n",
      "  File \"/home/studio-lab-user/.conda/envs/captcha/lib/python3.9/site-packages/tensorflow/python/eager/function.py\", line 2453, in __call__\n",
      "    return graph_function._call_flat(\n",
      "  File \"/home/studio-lab-user/.conda/envs/captcha/lib/python3.9/site-packages/tensorflow/python/eager/function.py\", line 1860, in _call_flat\n",
      "    return self._build_call_outputs(self._inference_function.call(\n",
      "  File \"/home/studio-lab-user/.conda/envs/captcha/lib/python3.9/site-packages/tensorflow/python/eager/function.py\", line 497, in call\n",
      "    outputs = execute.execute(\n",
      "  File \"/home/studio-lab-user/.conda/envs/captcha/lib/python3.9/site-packages/tensorflow/python/eager/execute.py\", line 54, in quick_execute\n",
      "    tensors = pywrap_tfe.TFE_Py_Execute(ctx._handle, device_name, op_name,\n",
      "KeyboardInterrupt\n"
     ]
    }
   ],
   "source": [
    "!python /home/studio-lab-user/ocr_crnn/crnn/train.py \\\n",
    "--config /home/studio-lab-user/ocr_crnn/configs/handwriting.yml \\\n",
    "--save_dir /home/studio-lab-user/handwriting_exp1\n"
   ]
  },
  {
   "cell_type": "code",
   "execution_count": 9,
   "metadata": {
    "colab": {
     "base_uri": "https://localhost:8080/"
    },
    "id": "5Lne-gZMUucV",
    "outputId": "c2d0bf0c-027e-4711-877b-49b2a8e38c10"
   },
   "outputs": [
    {
     "name": "stdout",
     "output_type": "stream",
     "text": [
      "Path: /home/studio-lab-user/ocr_crnn/handwriting_test/a03-009-03-02.png, y_pred: ['aemlly'], probability: [0.02756572]\n",
      "Path: /home/studio-lab-user/ocr_crnn/handwriting_test/a03-009-00-04.png, y_pred: ['spparant'], probability: [0.02356107]\n"
     ]
    }
   ],
   "source": [
    "!python /home/studio-lab-user/ocr_crnn/crnn/predict.py  \\\n",
    "--config /home/studio-lab-user/ocr_crnn/configs/handwriting.yml  \\\n",
    "--weight /home/studio-lab-user/handwriting_exp1/0_best_model.h5 \\\n",
    "--images /home/studio-lab-user/ocr_crnn/handwriting_test  \\\n",
    "--post greedy"
   ]
  }
 ],
 "metadata": {
  "accelerator": "GPU",
  "colab": {
   "provenance": []
  },
  "gpuClass": "standard",
  "kernelspec": {
   "display_name": "captcha:Python",
   "language": "python",
   "name": "conda-env-captcha-py"
  },
  "language_info": {
   "codemirror_mode": {
    "name": "ipython",
    "version": 3
   },
   "file_extension": ".py",
   "mimetype": "text/x-python",
   "name": "python",
   "nbconvert_exporter": "python",
   "pygments_lexer": "ipython3",
   "version": "3.9.15"
  }
 },
 "nbformat": 4,
 "nbformat_minor": 4
}
