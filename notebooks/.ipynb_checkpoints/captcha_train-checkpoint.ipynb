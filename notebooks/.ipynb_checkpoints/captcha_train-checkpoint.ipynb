{
 "cells": [
  {
   "cell_type": "code",
   "execution_count": 8,
   "metadata": {
    "colab": {
     "base_uri": "https://localhost:8080/"
    },
    "id": "XGHpSG768RQj",
    "outputId": "6408f946-1b4d-4751-f967-4b4cb7d29d02"
   },
   "outputs": [
    {
     "name": "stdout",
     "output_type": "stream",
     "text": [
      "Overwriting /home/studio-lab-user/captcha/configs/captcha.yml\n"
     ]
    }
   ],
   "source": [
    "%%writefile /home/studio-lab-user/captcha/configs/captcha.yml\n",
    "dataset_builder: &ds_builder\n",
    "    table_path: '/home/studio-lab-user/captcha/configs/table.txt'\n",
    "    img_shape: [50, 200, 1]\n",
    "\n",
    "train:\n",
    "    dataset_builder:\n",
    "        <<: *ds_builder\n",
    "    train_csv_path:\n",
    "        '/home/studio-lab-user/captcha_images_v2/captcha.csv'\n",
    "\n",
    "    batch_size_per_replica: 16\n",
    "    num_kfold: 2\n",
    "    # Number of epochs to train.\n",
    "    epochs: 50\n",
    "    # TensorBoard Arguments\n",
    "    # https://www.tensorflow.org/api_docs/python/tf/keras/callbacks/TensorBoard#arguments_1\n",
    "    tensorboard:\n",
    "        histogram_freq: 1\n",
    "        profile_batch: 0\n",
    "    earlystopping:\n",
    "        patience: 10"
   ]
  },
  {
   "cell_type": "code",
   "execution_count": 10,
   "metadata": {
    "colab": {
     "base_uri": "https://localhost:8080/"
    },
    "id": "kNPHt58tR5_5",
    "outputId": "7006b4da-288a-4b08-d233-9dcdbe452ac4"
   },
   "outputs": [
    {
     "name": "stdout",
     "output_type": "stream",
     "text": [
      "{'batch_size_per_replica': 16,\n",
      " 'dataset_builder': {'img_shape': [200, 50, 1],\n",
      "                     'table_path': '/home/studio-lab-user/captcha/configs/table.txt'},\n",
      " 'earlystopping': {'patience': 10},\n",
      " 'epochs': 60,\n",
      " 'num_kfold': 10,\n",
      " 'tensorboard': {'histogram_freq': 1, 'profile_batch': 0},\n",
      " 'train_csv_path': '/home/studio-lab-user/captcha_images_v2/captcha.csv'}\n",
      "Model: \"crnn\"\n",
      "_________________________________________________________________\n",
      " Layer (type)                Output Shape              Param #   \n",
      "=================================================================\n",
      " input_1 (InputLayer)        [(None, 200, 50, 1)]      0         \n",
      "                                                                 \n",
      " Conv1 (Conv2D)              (None, 200, 50, 32)       320       \n",
      "                                                                 \n",
      " pool1 (MaxPooling2D)        (None, 100, 25, 32)       0         \n",
      "                                                                 \n",
      " Conv2 (Conv2D)              (None, 100, 25, 64)       18496     \n",
      "                                                                 \n",
      " pool2 (MaxPooling2D)        (None, 50, 12, 64)        0         \n",
      "                                                                 \n",
      " reshape (Reshape)           (None, 50, 768)           0         \n",
      "                                                                 \n",
      " dense1 (Dense)              (None, 50, 64)            49216     \n",
      "                                                                 \n",
      " dropout (Dropout)           (None, 50, 64)            0         \n",
      "                                                                 \n",
      " bidirectional (Bidirectiona  (None, 50, 256)          197632    \n",
      " l)                                                              \n",
      "                                                                 \n",
      " bidirectional_1 (Bidirectio  (None, 50, 128)          164352    \n",
      " nal)                                                            \n",
      "                                                                 \n",
      " logits (Dense)              (None, 50, 21)            2709      \n",
      "                                                                 \n",
      "=================================================================\n",
      "Total params: 432,725\n",
      "Trainable params: 432,725\n",
      "Non-trainable params: 0\n",
      "_________________________________________________________________\n",
      "          loss sequence_accuracy  val_loss val_sequence_accuracy     epoch\n",
      "Fold                                                                      \n",
      "0      0.05234          0.990385  0.083461              0.990385        50\n",
      "1     4.065748          0.193376  6.843458              0.028846        60\n",
      "2     1.250712          0.709402  3.483971              0.230769        60\n",
      "3     0.024449          0.996795  0.007827                   1.0        58\n",
      "4     0.031771          0.992521  0.139534              0.980769        43\n",
      "5     5.006521          0.095085  7.623762              0.019231        60\n",
      "6     3.925527          0.237179  6.568761              0.105769        60\n",
      "7     0.048189          0.989316  0.027904              0.990385        49\n",
      "8     1.803137          0.505342  4.232887              0.105769        60\n",
      "9      0.04505           0.99359  0.062976              0.990385        58\n",
      "Mean  1.625344          0.670299  2.907454              0.544231      55.8\n",
      "Std   1.881812          0.359698  3.060343              0.449383  5.844656\n"
     ]
    }
   ],
   "source": [
    "!python /home/studio-lab-user/captcha/crnn/train.py \\\n",
    "--config /home/studio-lab-user/captcha/configs/captcha.yml \\\n",
    "--save_dir /home/studio-lab-user/exp1"
   ]
  },
  {
   "cell_type": "code",
   "execution_count": 18,
   "metadata": {
    "colab": {
     "base_uri": "https://localhost:8080/"
    },
    "id": "5Lne-gZMUucV",
    "outputId": "c2d0bf0c-027e-4711-877b-49b2a8e38c10"
   },
   "outputs": [
    {
     "name": "stdout",
     "output_type": "stream",
     "text": [
      "Model: \"crnn\"\n",
      "_________________________________________________________________\n",
      " Layer (type)                Output Shape              Param #   \n",
      "=================================================================\n",
      " input_1 (InputLayer)        [(None, 200, 50, 1)]      0         \n",
      "                                                                 \n",
      " Conv1 (Conv2D)              (None, 200, 50, 32)       320       \n",
      "                                                                 \n",
      " pool1 (MaxPooling2D)        (None, 100, 25, 32)       0         \n",
      "                                                                 \n",
      " Conv2 (Conv2D)              (None, 100, 25, 64)       18496     \n",
      "                                                                 \n",
      " pool2 (MaxPooling2D)        (None, 50, 12, 64)        0         \n",
      "                                                                 \n",
      " reshape (Reshape)           (None, 50, 768)           0         \n",
      "                                                                 \n",
      " dense1 (Dense)              (None, 50, 64)            49216     \n",
      "                                                                 \n",
      " dropout (Dropout)           (None, 50, 64)            0         \n",
      "                                                                 \n",
      " bidirectional (Bidirectiona  (None, 50, 256)          197632    \n",
      " l)                                                              \n",
      "                                                                 \n",
      " bidirectional_1 (Bidirectio  (None, 50, 128)          164352    \n",
      " nal)                                                            \n",
      "                                                                 \n",
      " logits (Dense)              (None, 50, 21)            2709      \n",
      "                                                                 \n",
      " ctc_greedy_decoder (CTCGree  ((None,),                0         \n",
      " dyDecoder)                   (None,))                           \n",
      "                                                                 \n",
      "=================================================================\n",
      "Total params: 432,725\n",
      "Trainable params: 432,725\n",
      "Non-trainable params: 0\n",
      "_________________________________________________________________\n",
      "WARNING:tensorflow:Compiled the loaded model, but the compiled metrics have yet to be built. `model.compile_metrics` will be empty until you train or evaluate the model.\n",
      "WARNING:absl:Found untraced functions such as _jit_compiled_convolution_op, _jit_compiled_convolution_op, lstm_cell_1_layer_call_fn, lstm_cell_1_layer_call_and_return_conditional_losses, lstm_cell_2_layer_call_fn while saving (showing 5 of 10). These functions will not be directly callable after loading.\n"
     ]
    }
   ],
   "source": [
    "!python /home/studio-lab-user/captcha/crnn/export.py  \\\n",
    "--config /home/studio-lab-user/captcha/configs/captcha.yml  \\\n",
    "--weight /home/studio-lab-user/exp1/0_best_model.h5 \\\n",
    "--post greedy  \\\n",
    "--output /home/studio-lab-user/model"
   ]
  },
  {
   "cell_type": "code",
   "execution_count": 20,
   "metadata": {
    "colab": {
     "base_uri": "https://localhost:8080/"
    },
    "id": "_RkZIv1MVoMx",
    "outputId": "d7690f52-6c17-4d09-d305-4e028a27dd36"
   },
   "outputs": [
    {
     "name": "stdout",
     "output_type": "stream",
     "text": [
      "Path: /home/studio-lab-user/captcha/test/f22bn.png, y_pred: [b'7y7y'], probability: [0.]\n",
      "Path: /home/studio-lab-user/captcha/test/ngn26.png, y_pred: [b'7y7y'], probability: [0.]\n",
      "Path: /home/studio-lab-user/captcha/test/mmfm6.png, y_pred: [b'7y7y'], probability: [0.]\n",
      "Path: /home/studio-lab-user/captcha/test/xmcym.png, y_pred: [b'7y7y'], probability: [0.]\n",
      "Path: /home/studio-lab-user/captcha/test/yf424.png, y_pred: [b'73'], probability: [0.]\n",
      "Path: /home/studio-lab-user/captcha/test/8d4wm.png, y_pred: [b'7ydy7y'], probability: [0.]\n",
      "Path: /home/studio-lab-user/captcha/test/3wnd3.png, y_pred: [b'7y7y'], probability: [0.]\n"
     ]
    }
   ],
   "source": [
    "!python /home/studio-lab-user/captcha/tools/demo.py  \\\n",
    "--images /home/studio-lab-user/captcha/test  \\\n",
    "--config /home/studio-lab-user/captcha/configs/captcha.yml  \\\n",
    "--model /home/studio-lab-user/model"
   ]
  },
  {
   "cell_type": "code",
   "execution_count": null,
   "metadata": {
    "id": "_eRPme8YXFRY"
   },
   "outputs": [],
   "source": []
  }
 ],
 "metadata": {
  "accelerator": "GPU",
  "colab": {
   "provenance": []
  },
  "gpuClass": "standard",
  "kernelspec": {
   "display_name": "captcha:Python",
   "language": "python",
   "name": "conda-env-captcha-py"
  },
  "language_info": {
   "codemirror_mode": {
    "name": "ipython",
    "version": 3
   },
   "file_extension": ".py",
   "mimetype": "text/x-python",
   "name": "python",
   "nbconvert_exporter": "python",
   "pygments_lexer": "ipython3",
   "version": "3.9.15"
  }
 },
 "nbformat": 4,
 "nbformat_minor": 4
}
