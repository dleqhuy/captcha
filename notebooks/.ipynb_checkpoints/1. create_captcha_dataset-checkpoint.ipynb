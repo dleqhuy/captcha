{
 "cells": [
  {
   "cell_type": "code",
   "execution_count": 1,
   "metadata": {
    "colab": {
     "base_uri": "https://localhost:8080/"
    },
    "id": "nUyQ63IeR-SD",
    "outputId": "2fc862b4-fe9d-42d3-d4f7-8e4c5ae0aafb"
   },
   "outputs": [],
   "source": [
    "import os\n",
    "import random\n",
    "import glob\n",
    "import pandas as pd\n",
    "\n",
    "from captcha.image import ImageCaptcha\n",
    "from joblib import Parallel, delayed\n",
    "\n",
    "try:\n",
    "    os.makedirs('/home/studio-lab-user/data/train', exist_ok = True)\n",
    "    os.makedirs('/home/studio-lab-user/captcha/test', exist_ok = True)\n",
    "except :\n",
    "    pass\n"
   ]
  },
  {
   "cell_type": "code",
   "execution_count": 2,
   "metadata": {
    "id": "1yylwSXqTuvr"
   },
   "outputs": [
    {
     "name": "stderr",
     "output_type": "stream",
     "text": [
      "[Parallel(n_jobs=-1)]: Using backend LokyBackend with 4 concurrent workers.\n",
      "[Parallel(n_jobs=-1)]: Done 680 tasks      | elapsed:    2.3s\n",
      "[Parallel(n_jobs=-1)]: Done 3080 tasks      | elapsed:    7.5s\n",
      "[Parallel(n_jobs=-1)]: Done 7080 tasks      | elapsed:   16.2s\n",
      "[Parallel(n_jobs=-1)]: Done 12680 tasks      | elapsed:   28.3s\n",
      "[Parallel(n_jobs=-1)]: Done 19880 tasks      | elapsed:   43.9s\n",
      "[Parallel(n_jobs=-1)]: Done 28680 tasks      | elapsed:  1.0min\n",
      "[Parallel(n_jobs=-1)]: Done 39080 tasks      | elapsed:  1.4min\n",
      "[Parallel(n_jobs=-1)]: Done 51080 tasks      | elapsed:  1.9min\n",
      "[Parallel(n_jobs=-1)]: Done 64680 tasks      | elapsed:  2.4min\n",
      "[Parallel(n_jobs=-1)]: Done 79880 tasks      | elapsed:  2.9min\n",
      "[Parallel(n_jobs=-1)]: Done 96680 tasks      | elapsed:  3.5min\n",
      "[Parallel(n_jobs=-1)]: Done 115080 tasks      | elapsed:  4.2min\n",
      "[Parallel(n_jobs=-1)]: Done 135080 tasks      | elapsed:  4.9min\n",
      "[Parallel(n_jobs=-1)]: Done 156680 tasks      | elapsed:  5.7min\n",
      "[Parallel(n_jobs=-1)]: Done 179880 tasks      | elapsed:  6.6min\n",
      "[Parallel(n_jobs=-1)]: Done 204680 tasks      | elapsed:  7.5min\n",
      "[Parallel(n_jobs=-1)]: Done 231080 tasks      | elapsed:  8.5min\n",
      "[Parallel(n_jobs=-1)]: Done 259080 tasks      | elapsed:  9.5min\n",
      "[Parallel(n_jobs=-1)]: Done 288680 tasks      | elapsed: 10.6min\n",
      "[Parallel(n_jobs=-1)]: Done 300000 out of 300000 | elapsed: 11.0min finished\n"
     ]
    }
   ],
   "source": [
    "image = ImageCaptcha()\n",
    "\n",
    "vocab = 'ABCDEFGHJKLMNPQRSTUVWXYZ'\n",
    "\n",
    "def create_image(i):\n",
    "    label_length = random.choice([4,5,6])\n",
    "    random_str = ''.join([random.choice(list(vocab)) for j in range(label_length)])\n",
    "\n",
    "    image.write(random_str, f'/home/studio-lab-user/data/train/{random_str}.png')\n",
    "    \n",
    "out = Parallel(n_jobs=-1, verbose=1, batch_size=16)(delayed(create_image)(i) for i in range(300000))"
   ]
  },
  {
   "cell_type": "code",
   "execution_count": 13,
   "metadata": {
    "id": "WG6d_j2IRt7-"
   },
   "outputs": [],
   "source": [
    "for i in range(10):\n",
    "\n",
    "    label_length = random.choice([3,4,5,6,7])\n",
    "    random_str = ''.join([random.choice(list(vocab)) for j in range(label_length)])\n",
    "\n",
    "    image.write(random_str, f'/home/studio-lab-user/captcha/test/{random_str}.png')"
   ]
  },
  {
   "cell_type": "code",
   "execution_count": 3,
   "metadata": {
    "id": "6WdVqX4mtrKR"
   },
   "outputs": [],
   "source": [
    "df = pd.DataFrame(glob.glob('/home/studio-lab-user/data/train/*.png'), columns=['file_path'])\n",
    "\n",
    "def label_map(x):\n",
    "    label = x.split('/')[-1].split('.')[0]\n",
    "    return label\n",
    "\n",
    "df['label']= df['file_path'].map(label_map)"
   ]
  },
  {
   "cell_type": "code",
   "execution_count": 4,
   "metadata": {
    "colab": {
     "base_uri": "https://localhost:8080/",
     "height": 206
    },
    "id": "NJVH8ZOLt6xA",
    "outputId": "60bcd017-7dd2-4ba8-8cbd-a0f15ca0adcc"
   },
   "outputs": [
    {
     "data": {
      "text/html": [
       "<div>\n",
       "<style scoped>\n",
       "    .dataframe tbody tr th:only-of-type {\n",
       "        vertical-align: middle;\n",
       "    }\n",
       "\n",
       "    .dataframe tbody tr th {\n",
       "        vertical-align: top;\n",
       "    }\n",
       "\n",
       "    .dataframe thead th {\n",
       "        text-align: right;\n",
       "    }\n",
       "</style>\n",
       "<table border=\"1\" class=\"dataframe\">\n",
       "  <thead>\n",
       "    <tr style=\"text-align: right;\">\n",
       "      <th></th>\n",
       "      <th>file_path</th>\n",
       "      <th>label</th>\n",
       "    </tr>\n",
       "  </thead>\n",
       "  <tbody>\n",
       "    <tr>\n",
       "      <th>0</th>\n",
       "      <td>/home/studio-lab-user/data/train/FQZZ.png</td>\n",
       "      <td>FQZZ</td>\n",
       "    </tr>\n",
       "    <tr>\n",
       "      <th>1</th>\n",
       "      <td>/home/studio-lab-user/data/train/HTVPT.png</td>\n",
       "      <td>HTVPT</td>\n",
       "    </tr>\n",
       "    <tr>\n",
       "      <th>2</th>\n",
       "      <td>/home/studio-lab-user/data/train/YKSN.png</td>\n",
       "      <td>YKSN</td>\n",
       "    </tr>\n",
       "    <tr>\n",
       "      <th>3</th>\n",
       "      <td>/home/studio-lab-user/data/train/KBVMK.png</td>\n",
       "      <td>KBVMK</td>\n",
       "    </tr>\n",
       "    <tr>\n",
       "      <th>4</th>\n",
       "      <td>/home/studio-lab-user/data/train/UYSFFW.png</td>\n",
       "      <td>UYSFFW</td>\n",
       "    </tr>\n",
       "  </tbody>\n",
       "</table>\n",
       "</div>"
      ],
      "text/plain": [
       "                                     file_path   label\n",
       "0    /home/studio-lab-user/data/train/FQZZ.png    FQZZ\n",
       "1   /home/studio-lab-user/data/train/HTVPT.png   HTVPT\n",
       "2    /home/studio-lab-user/data/train/YKSN.png    YKSN\n",
       "3   /home/studio-lab-user/data/train/KBVMK.png   KBVMK\n",
       "4  /home/studio-lab-user/data/train/UYSFFW.png  UYSFFW"
      ]
     },
     "execution_count": 4,
     "metadata": {},
     "output_type": "execute_result"
    }
   ],
   "source": [
    "df.head()"
   ]
  },
  {
   "cell_type": "code",
   "execution_count": 5,
   "metadata": {
    "id": "CEi4ztsgTxqz"
   },
   "outputs": [],
   "source": [
    "df.to_csv('/home/studio-lab-user/data/captcha.csv')"
   ]
  }
 ],
 "metadata": {
  "colab": {
   "provenance": []
  },
  "kernelspec": {
   "display_name": "captcha:Python",
   "language": "python",
   "name": "conda-env-captcha-py"
  },
  "language_info": {
   "codemirror_mode": {
    "name": "ipython",
    "version": 3
   },
   "file_extension": ".py",
   "mimetype": "text/x-python",
   "name": "python",
   "nbconvert_exporter": "python",
   "pygments_lexer": "ipython3",
   "version": "3.9.15"
  }
 },
 "nbformat": 4,
 "nbformat_minor": 4
}
