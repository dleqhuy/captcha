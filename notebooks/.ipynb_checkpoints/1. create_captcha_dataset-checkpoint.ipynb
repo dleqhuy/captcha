{
 "cells": [
  {
   "cell_type": "code",
   "execution_count": 21,
   "metadata": {
    "colab": {
     "base_uri": "https://localhost:8080/"
    },
    "id": "nUyQ63IeR-SD",
    "outputId": "2fc862b4-fe9d-42d3-d4f7-8e4c5ae0aafb"
   },
   "outputs": [],
   "source": [
    "import os\n",
    "import glob\n",
    "import pandas as pd\n"
   ]
  },
  {
   "cell_type": "code",
   "execution_count": 22,
   "metadata": {
    "id": "6WdVqX4mtrKR"
   },
   "outputs": [],
   "source": [
    "df = pd.DataFrame(glob.glob('/home/studio-lab-user/captcha_images_v2/*.png'), columns=['file_path'])\n",
    "\n",
    "def label_map(x):\n",
    "    label = x.split('/')[-1].split('.')[0]\n",
    "    return label\n",
    "\n",
    "df['label']= df['file_path'].map(label_map)"
   ]
  },
  {
   "cell_type": "code",
   "execution_count": 23,
   "metadata": {
    "colab": {
     "base_uri": "https://localhost:8080/",
     "height": 206
    },
    "id": "NJVH8ZOLt6xA",
    "outputId": "60bcd017-7dd2-4ba8-8cbd-a0f15ca0adcc"
   },
   "outputs": [
    {
     "data": {
      "text/html": [
       "<div>\n",
       "<style scoped>\n",
       "    .dataframe tbody tr th:only-of-type {\n",
       "        vertical-align: middle;\n",
       "    }\n",
       "\n",
       "    .dataframe tbody tr th {\n",
       "        vertical-align: top;\n",
       "    }\n",
       "\n",
       "    .dataframe thead th {\n",
       "        text-align: right;\n",
       "    }\n",
       "</style>\n",
       "<table border=\"1\" class=\"dataframe\">\n",
       "  <thead>\n",
       "    <tr style=\"text-align: right;\">\n",
       "      <th></th>\n",
       "      <th>file_path</th>\n",
       "      <th>label</th>\n",
       "    </tr>\n",
       "  </thead>\n",
       "  <tbody>\n",
       "    <tr>\n",
       "      <th>0</th>\n",
       "      <td>/home/studio-lab-user/captcha_images_v2/ydd3g.png</td>\n",
       "      <td>ydd3g</td>\n",
       "    </tr>\n",
       "    <tr>\n",
       "      <th>1</th>\n",
       "      <td>/home/studio-lab-user/captcha_images_v2/36nx4.png</td>\n",
       "      <td>36nx4</td>\n",
       "    </tr>\n",
       "    <tr>\n",
       "      <th>2</th>\n",
       "      <td>/home/studio-lab-user/captcha_images_v2/3bnyf.png</td>\n",
       "      <td>3bnyf</td>\n",
       "    </tr>\n",
       "    <tr>\n",
       "      <th>3</th>\n",
       "      <td>/home/studio-lab-user/captcha_images_v2/8y6b3.png</td>\n",
       "      <td>8y6b3</td>\n",
       "    </tr>\n",
       "    <tr>\n",
       "      <th>4</th>\n",
       "      <td>/home/studio-lab-user/captcha_images_v2/268g2.png</td>\n",
       "      <td>268g2</td>\n",
       "    </tr>\n",
       "  </tbody>\n",
       "</table>\n",
       "</div>"
      ],
      "text/plain": [
       "                                           file_path  label\n",
       "0  /home/studio-lab-user/captcha_images_v2/ydd3g.png  ydd3g\n",
       "1  /home/studio-lab-user/captcha_images_v2/36nx4.png  36nx4\n",
       "2  /home/studio-lab-user/captcha_images_v2/3bnyf.png  3bnyf\n",
       "3  /home/studio-lab-user/captcha_images_v2/8y6b3.png  8y6b3\n",
       "4  /home/studio-lab-user/captcha_images_v2/268g2.png  268g2"
      ]
     },
     "execution_count": 23,
     "metadata": {},
     "output_type": "execute_result"
    }
   ],
   "source": [
    "df.head()"
   ]
  },
  {
   "cell_type": "code",
   "execution_count": 24,
   "metadata": {
    "id": "CEi4ztsgTxqz"
   },
   "outputs": [],
   "source": [
    "df.to_csv('/home/studio-lab-user/captcha_images_v2/captcha.csv')"
   ]
  }
 ],
 "metadata": {
  "colab": {
   "provenance": []
  },
  "kernelspec": {
   "display_name": "captcha:Python",
   "language": "python",
   "name": "conda-env-captcha-py"
  },
  "language_info": {
   "codemirror_mode": {
    "name": "ipython",
    "version": 3
   },
   "file_extension": ".py",
   "mimetype": "text/x-python",
   "name": "python",
   "nbconvert_exporter": "python",
   "pygments_lexer": "ipython3",
   "version": "3.9.15"
  }
 },
 "nbformat": 4,
 "nbformat_minor": 4
}
