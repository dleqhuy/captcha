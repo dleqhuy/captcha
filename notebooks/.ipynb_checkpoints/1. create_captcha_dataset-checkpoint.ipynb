{
 "cells": [
  {
   "cell_type": "code",
   "execution_count": 41,
   "metadata": {
    "colab": {
     "base_uri": "https://localhost:8080/"
    },
    "id": "nUyQ63IeR-SD",
    "outputId": "2fc862b4-fe9d-42d3-d4f7-8e4c5ae0aafb"
   },
   "outputs": [],
   "source": [
    "import os\n",
    "import random\n",
    "import glob\n",
    "import pandas as pd\n",
    "\n",
    "from captcha.image import ImageCaptcha\n",
    "from joblib import Parallel, delayed\n",
    "\n",
    "try:\n",
    "    os.makedirs('/home/studio-lab-user/data/train', exist_ok = True)\n",
    "    os.makedirs('/home/studio-lab-user/captcha/test', exist_ok = True)\n",
    "except :\n",
    "    pass\n"
   ]
  },
  {
   "cell_type": "code",
   "execution_count": 37,
   "metadata": {
    "id": "1yylwSXqTuvr"
   },
   "outputs": [
    {
     "name": "stderr",
     "output_type": "stream",
     "text": [
      "[Parallel(n_jobs=-1)]: Using backend LokyBackend with 4 concurrent workers.\n",
      "[Parallel(n_jobs=-1)]: Done 680 tasks      | elapsed:    3.1s\n",
      "[Parallel(n_jobs=-1)]: Done 3080 tasks      | elapsed:   12.4s\n",
      "[Parallel(n_jobs=-1)]: Done 7080 tasks      | elapsed:   29.0s\n",
      "[Parallel(n_jobs=-1)]: Done 12680 tasks      | elapsed:   51.6s\n",
      "[Parallel(n_jobs=-1)]: Done 19880 tasks      | elapsed:  1.3min\n",
      "[Parallel(n_jobs=-1)]: Done 28680 tasks      | elapsed:  1.9min\n",
      "[Parallel(n_jobs=-1)]: Done 30000 out of 30000 | elapsed:  2.0min finished\n"
     ]
    }
   ],
   "source": [
    "image = ImageCaptcha()\n",
    "\n",
    "vocab = 'ABCDEFGHJKLMNPQRSTUVWXYZ'\n",
    "\n",
    "def create_image(i):\n",
    "    label_length = random.choice([5,6,7])\n",
    "    random_str = ''.join([random.choice(list(vocab)) for j in range(label_length)])\n",
    "\n",
    "    image.write(random_str, f'/home/studio-lab-user/data/train/{random_str}.png')\n",
    "    \n",
    "out = Parallel(n_jobs=-1, verbose=1, batch_size=16)(delayed(create_image)(i) for i in range(30000))"
   ]
  },
  {
   "cell_type": "code",
   "execution_count": 42,
   "metadata": {
    "id": "WG6d_j2IRt7-"
   },
   "outputs": [],
   "source": [
    "for i in range(100):\n",
    "\n",
    "    label_length = random.choice([3,4,5,6,7])\n",
    "    random_str = ''.join([random.choice(list(vocab)) for j in range(label_length)])\n",
    "\n",
    "    image.write(random_str, f'/home/studio-lab-user/captcha/test/{random_str}.png')"
   ]
  },
  {
   "cell_type": "code",
   "execution_count": 49,
   "metadata": {
    "id": "6WdVqX4mtrKR"
   },
   "outputs": [],
   "source": [
    "df = pd.DataFrame(glob.glob('/home/studio-lab-user/data/train/*.png'), columns=['file_path'])\n",
    "\n",
    "def label_map(x):\n",
    "    label = x.split('/')[-1].split('.')[0]\n",
    "    return label\n",
    "\n",
    "df['label']= df['file_path'].map(label_map)"
   ]
  },
  {
   "cell_type": "code",
   "execution_count": 50,
   "metadata": {
    "colab": {
     "base_uri": "https://localhost:8080/",
     "height": 206
    },
    "id": "NJVH8ZOLt6xA",
    "outputId": "60bcd017-7dd2-4ba8-8cbd-a0f15ca0adcc"
   },
   "outputs": [
    {
     "data": {
      "text/html": [
       "<div>\n",
       "<style scoped>\n",
       "    .dataframe tbody tr th:only-of-type {\n",
       "        vertical-align: middle;\n",
       "    }\n",
       "\n",
       "    .dataframe tbody tr th {\n",
       "        vertical-align: top;\n",
       "    }\n",
       "\n",
       "    .dataframe thead th {\n",
       "        text-align: right;\n",
       "    }\n",
       "</style>\n",
       "<table border=\"1\" class=\"dataframe\">\n",
       "  <thead>\n",
       "    <tr style=\"text-align: right;\">\n",
       "      <th></th>\n",
       "      <th>file_path</th>\n",
       "      <th>label</th>\n",
       "    </tr>\n",
       "  </thead>\n",
       "  <tbody>\n",
       "    <tr>\n",
       "      <th>0</th>\n",
       "      <td>/home/studio-lab-user/data/train/ZCUPMTZ.png</td>\n",
       "      <td>ZCUPMTZ</td>\n",
       "    </tr>\n",
       "    <tr>\n",
       "      <th>1</th>\n",
       "      <td>/home/studio-lab-user/data/train/MRUVCCU.png</td>\n",
       "      <td>MRUVCCU</td>\n",
       "    </tr>\n",
       "    <tr>\n",
       "      <th>2</th>\n",
       "      <td>/home/studio-lab-user/data/train/NRGJV.png</td>\n",
       "      <td>NRGJV</td>\n",
       "    </tr>\n",
       "    <tr>\n",
       "      <th>3</th>\n",
       "      <td>/home/studio-lab-user/data/train/GRDFVU.png</td>\n",
       "      <td>GRDFVU</td>\n",
       "    </tr>\n",
       "    <tr>\n",
       "      <th>4</th>\n",
       "      <td>/home/studio-lab-user/data/train/DEYNDH.png</td>\n",
       "      <td>DEYNDH</td>\n",
       "    </tr>\n",
       "  </tbody>\n",
       "</table>\n",
       "</div>"
      ],
      "text/plain": [
       "                                      file_path    label\n",
       "0  /home/studio-lab-user/data/train/ZCUPMTZ.png  ZCUPMTZ\n",
       "1  /home/studio-lab-user/data/train/MRUVCCU.png  MRUVCCU\n",
       "2    /home/studio-lab-user/data/train/NRGJV.png    NRGJV\n",
       "3   /home/studio-lab-user/data/train/GRDFVU.png   GRDFVU\n",
       "4   /home/studio-lab-user/data/train/DEYNDH.png   DEYNDH"
      ]
     },
     "execution_count": 50,
     "metadata": {},
     "output_type": "execute_result"
    }
   ],
   "source": [
    "df.head()"
   ]
  },
  {
   "cell_type": "code",
   "execution_count": 53,
   "metadata": {
    "id": "CEi4ztsgTxqz"
   },
   "outputs": [],
   "source": [
    "df.to_csv('/home/studio-lab-user/data/captcha.csv')"
   ]
  },
  {
   "cell_type": "code",
   "execution_count": 55,
   "metadata": {
    "id": "jdeLf2PFdpgI"
   },
   "outputs": [],
   "source": [
    "with open('/home/studio-lab-user/captcha/configs/vocab.txt', 'w') as f:\n",
    "    f.write('\\n'.join(list(vocab)))"
   ]
  }
 ],
 "metadata": {
  "colab": {
   "provenance": []
  },
  "kernelspec": {
   "display_name": "captcha:Python",
   "language": "python",
   "name": "conda-env-captcha-py"
  },
  "language_info": {
   "codemirror_mode": {
    "name": "ipython",
    "version": 3
   },
   "file_extension": ".py",
   "mimetype": "text/x-python",
   "name": "python",
   "nbconvert_exporter": "python",
   "pygments_lexer": "ipython3",
   "version": "3.9.15"
  }
 },
 "nbformat": 4,
 "nbformat_minor": 4
}
